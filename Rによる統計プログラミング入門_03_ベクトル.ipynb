{
  "nbformat": 4,
  "nbformat_minor": 0,
  "metadata": {
    "colab": {
      "name": "Rによる統計プログラミング入門_03_ベクトル.ipynb",
      "provenance": [],
      "collapsed_sections": [],
      "toc_visible": true,
      "include_colab_link": true
    },
    "kernelspec": {
      "name": "ir",
      "display_name": "R"
    },
    "language_info": {
      "name": "python"
    }
  },
  "cells": [
    {
      "cell_type": "markdown",
      "metadata": {
        "id": "view-in-github",
        "colab_type": "text"
      },
      "source": [
        "<a href=\"https://colab.research.google.com/github/sugaya-findex/platform-ex/blob/main/R%E3%81%AB%E3%82%88%E3%82%8B%E7%B5%B1%E8%A8%88%E3%83%97%E3%83%AD%E3%82%B0%E3%83%A9%E3%83%9F%E3%83%B3%E3%82%B0%E5%85%A5%E9%96%80_03_%E3%83%99%E3%82%AF%E3%83%88%E3%83%AB.ipynb\" target=\"_parent\"><img src=\"https://colab.research.google.com/assets/colab-badge.svg\" alt=\"Open In Colab\"/></a>"
      ]
    },
    {
      "cell_type": "markdown",
      "metadata": {
        "id": "wvWRU62tsmVz"
      },
      "source": [
        "# １. ベクトル\n"
      ]
    },
    {
      "cell_type": "markdown",
      "source": [
        "## １.１. ベクトルの作成\n",
        "ベクトルの一番簡単な作り方は、関数`c()`を使った作り方です。この方法を使ったベクトルの作り方を復習しておきましょう。"
      ],
      "metadata": {
        "id": "qpBLSERezkNG"
      }
    },
    {
      "cell_type": "markdown",
      "metadata": {
        "id": "wFwA7sbMf2Jh"
      },
      "source": [
        "\n",
        "```R\n",
        "############################################################\n",
        "# 以下のコマンドをコードセルに入力し、実行してみてください #\n",
        "############################################################\n",
        "c(1, 2, 4)\n",
        "c(\"hello\", \"thank you\")\n",
        "```\n"
      ]
    },
    {
      "cell_type": "markdown",
      "source": [
        "規則性のある数値ベクトルは、`:`という演算子や関数`seq`を使うと簡単に作成することができます。"
      ],
      "metadata": {
        "id": "jHipn0TM4-Gw"
      }
    },
    {
      "cell_type": "markdown",
      "metadata": {
        "id": "frh8_wIigB-c"
      },
      "source": [
        "\n",
        "```R\n",
        "############################################################\n",
        "# 以下のコマンドをコードセルに入力し、実行してみてください #\n",
        "############################################################\n",
        "1:10\n",
        "seq(from=1, to=20, by=2)\n",
        "```\n"
      ]
    },
    {
      "cell_type": "markdown",
      "source": [
        "また、Rではアルファベットの文字列ベクトルがデフォルトで用意されています。小文字のベクトルは`letters`、大文字のベクトルは`LETTERS`というオブジェクトに格納されています。"
      ],
      "metadata": {
        "id": "O9nOPoiN2HaE"
      }
    },
    {
      "cell_type": "markdown",
      "metadata": {
        "id": "SWlvx_-G5KQr"
      },
      "source": [
        "\n",
        "```R\n",
        "############################################################\n",
        "# 以下のコマンドをコードセルに入力し、実行してみてください #\n",
        "############################################################\n",
        "letters\n",
        "LETTERS\n",
        "```\n"
      ]
    },
    {
      "cell_type": "markdown",
      "source": [
        "ベクトルは、何らかの意味を持った複数データをひとまとめにしておく場面でも利用されます。例えば、A、B、Cの3人の身長データを`height`というベクトルオブジェクトにまとめてみましょう。ベクトルの各要素は3人の身長に対応していますので、それぞれの要素に名前を付けておくと扱いやすくなります。ベクトルの要素に名前を付けるときには、関数`names`を利用します。"
      ],
      "metadata": {
        "id": "6w2zTe7U_NZJ"
      }
    },
    {
      "cell_type": "markdown",
      "metadata": {
        "id": "qLLbs3KmDC8u"
      },
      "source": [
        "\n",
        "```R\n",
        "############################################################\n",
        "# 以下のコマンドをコードセルに入力し、実行してみてください #\n",
        "############################################################\n",
        "height = c(160,170,180)\n",
        "height\n",
        "names(height) = c(\"A\",\"B\",\"C\")\n",
        "height\n",
        "```\n"
      ]
    },
    {
      "cell_type": "markdown",
      "metadata": {
        "id": "UOJBUI3hs_el"
      },
      "source": [
        "## １.２. ベクトルの要素の取り出し\n",
        "ベクトルから要素の取り出すには、大きく3通りの方法があります。\n",
        "- 方法１：`object[取り出したい要素番号のベクトル]`\n",
        "- 方法２：`object[取り出したい要素の位置にTが立った論理値ベクトル]`\n",
        "- 方法３：`object[取り出したい要素の名前のベクトル]`"
      ]
    },
    {
      "cell_type": "markdown",
      "source": [
        "- 方法１による取り出し\n",
        "\n",
        "方法１によってベクトル`a`から要素を取り出す場合、以下のように記述します。"
      ],
      "metadata": {
        "id": "UgKNOYEH23tg"
      }
    },
    {
      "cell_type": "markdown",
      "metadata": {
        "id": "jeaOyd5AadK5"
      },
      "source": [
        "\n",
        "```R\n",
        "############################################################\n",
        "# 以下のコマンドをコードセルに入力し、実行してみてください #\n",
        "############################################################\n",
        "a = c(3,5,NA,12)\n",
        "a[2]\n",
        "a[c(1,3)]\n",
        "```\n"
      ]
    },
    {
      "cell_type": "markdown",
      "source": [
        "一方で、`[]`の中のベクトルにマイナスの記号を付けると、その要素を除いたベクトルが得られます。"
      ],
      "metadata": {
        "id": "kNFBT0S63AyD"
      }
    },
    {
      "cell_type": "markdown",
      "metadata": {
        "id": "ma3fqHu23DVr"
      },
      "source": [
        "\n",
        "```R\n",
        "############################################################\n",
        "# 以下のコマンドをコードセルに入力し、実行してみてください #\n",
        "############################################################\n",
        "a[-2]\n",
        "a[-c(1,3)]\n",
        "```\n"
      ]
    },
    {
      "cell_type": "markdown",
      "source": [
        "この方法は特定の要素を複数回取り出す場合や、順序を入れ替える場合にも利用されます。"
      ],
      "metadata": {
        "id": "fqQa7s9e3HNV"
      }
    },
    {
      "cell_type": "markdown",
      "metadata": {
        "id": "ajfmxFi53Kmj"
      },
      "source": [
        "\n",
        "```R\n",
        "############################################################\n",
        "# 以下のコマンドをコードセルに入力し、実行してみてください #\n",
        "############################################################\n",
        "a[c(1,1,2,2,3,4)]\n",
        "a[c(4,2,3,1)]\n",
        "```\n"
      ]
    },
    {
      "cell_type": "markdown",
      "source": [
        "ベクトルを昇順（または、降順）に並び替える操作は、関数`order`を使って行います。\n",
        "ベクトルの整列には関数`sort`を用いることもできますが、`sort`を利用するとNAが削除されてしまう点に注意してください。"
      ],
      "metadata": {
        "id": "WK8ZFi_R3Pgv"
      }
    },
    {
      "cell_type": "markdown",
      "metadata": {
        "id": "JVvuP1sP3R9Q"
      },
      "source": [
        "\n",
        "```R\n",
        "############################################################\n",
        "# 以下のコマンドをコードセルに入力し、実行してみてください #\n",
        "############################################################\n",
        "order(a)\n",
        "a[order(a)]\n",
        "a[order(a,decreasing=T)]\n",
        "sort(a)\n",
        "```\n"
      ]
    },
    {
      "cell_type": "markdown",
      "source": [
        "- 方法２による取り出し\n",
        "\n",
        "方法２によってベクトルの要素を取り出す場合には、そのベクトルと同じ長さの論理値ベクトルをブラケット`[]`の中に記述する必要があります。"
      ],
      "metadata": {
        "id": "VFpWGRdM3WhF"
      }
    },
    {
      "cell_type": "markdown",
      "metadata": {
        "id": "NsV5rxHA3Y3F"
      },
      "source": [
        "\n",
        "```R\n",
        "############################################################\n",
        "# 以下のコマンドをコードセルに入力し、実行してみてください #\n",
        "############################################################\n",
        "a[c(T,F,T,F)]\n",
        "```\n"
      ]
    },
    {
      "cell_type": "markdown",
      "source": [
        "論理値ベクトルは、一般的には取り出したい条件の論理式から作られます。例えば、4より大きな数字を取り出したい場合には、比較演算子を使って作成した論理値ベクトルを`[]`の中に記述します。`NA`でないものを取り出したいような例の場合も同様で、`NA`であるかどうかの論理値ベクトルを関数`is.na`を利用して作成し、`[]`の中に記述します。"
      ],
      "metadata": {
        "id": "Jg4aXTaU3ekR"
      }
    },
    {
      "cell_type": "markdown",
      "metadata": {
        "id": "C10-Eu-G3hYl"
      },
      "source": [
        "\n",
        "```R\n",
        "############################################################\n",
        "# 以下のコマンドをコードセルに入力し、実行してみてください #\n",
        "############################################################\n",
        "a>4\n",
        "a[a>4]\n",
        "!is.na(a)\n",
        "a[!is.na(a)]\n",
        "```\n"
      ]
    },
    {
      "cell_type": "markdown",
      "source": [
        "上記の4より大きな数字を取り出した例では、`NA`も取り出されている点に注目してください。\n",
        "`NA`を除き、かつ4よりも大きな要素を取り出したい場合には、関数`which`を利用します。`which`は条件を満たす添え字ベクトルを返す関数ですので厳密には方法1を属する方法ですが、ここであわせて覚えておくようにしてください。"
      ],
      "metadata": {
        "id": "NKguCmuR3ngV"
      }
    },
    {
      "cell_type": "markdown",
      "metadata": {
        "id": "BQTzzHJu3hhX"
      },
      "source": [
        "\n",
        "```R\n",
        "############################################################\n",
        "# 以下のコマンドをコードセルに入力し、実行してみてください #\n",
        "############################################################\n",
        "which(a>4)\n",
        "a[which(a>4)]\n",
        "```\n"
      ]
    },
    {
      "cell_type": "markdown",
      "source": [
        "- 方法３による取り出し\n",
        "\n",
        "ベクトルの要素に名前が付けられている場合には、ブラケット`[]`の中に名前のベクトルを記述することでその要素を取り出すことができます。"
      ],
      "metadata": {
        "id": "P9m4cnNnGEZv"
      }
    },
    {
      "cell_type": "markdown",
      "metadata": {
        "id": "OuEzVv1qGa8I"
      },
      "source": [
        "\n",
        "```R\n",
        "############################################################\n",
        "# 以下のコマンドをコードセルに入力し、実行してみてください #\n",
        "############################################################\n",
        "height[\"A\"]\n",
        "height[c(\"B\",\"C\")]\n",
        "```\n"
      ]
    },
    {
      "cell_type": "markdown",
      "metadata": {
        "id": "ne-IMAtE06ot"
      },
      "source": [
        "## １.３. ベクトルの演算\n",
        "数値ベクトルの四則演算を行ってみましょう。\n",
        "演算対象の２つのベクトルが同じ長さであった場合には、対応する要素ごとに演算が行われます。"
      ]
    },
    {
      "cell_type": "markdown",
      "metadata": {
        "id": "HGOe9GJl0HSB"
      },
      "source": [
        "\n",
        "```R\n",
        "############################################################\n",
        "# 以下のコマンドをコードセルに入力し、実行してみてください #\n",
        "############################################################\n",
        "a = 1:4\n",
        "b = 5:8\n",
        "a+b\n",
        "a-b\n",
        "a*b\n",
        "a/b\n",
        "```\n"
      ]
    },
    {
      "cell_type": "markdown",
      "source": [
        "異なる長さの数値ベクトルの演算も可能です。この場合、長さが短い方のベクトルが自動的に複製されて計算に利用されます。以下の例の場合、`b2`が複製されて`c(5,6,5,6)`というベクトルになり、`a`との演算が実行されます。"
      ],
      "metadata": {
        "id": "-y3P4rfL37bZ"
      }
    },
    {
      "cell_type": "markdown",
      "metadata": {
        "id": "NuqwqA_F39cO"
      },
      "source": [
        "\n",
        "```R\n",
        "############################################################\n",
        "# 以下のコマンドをコードセルに入力し、実行してみてください #\n",
        "############################################################\n",
        "b2 = 5:6\n",
        "a+b2\n",
        "a-b2\n",
        "a*b2\n",
        "a/b2\n",
        "```\n"
      ]
    },
    {
      "cell_type": "markdown",
      "source": [
        "## ※注意\n",
        "Rではwarningメッセージの出力とともに、以下のような演算も実行できてしまいます。"
      ],
      "metadata": {
        "id": "59ieJBZF4FDJ"
      }
    },
    {
      "cell_type": "code",
      "source": [
        "a = 1:4\n",
        "b3 = 5:7\n",
        "a+b3"
      ],
      "metadata": {
        "colab": {
          "base_uri": "https://localhost:8080/",
          "height": 71
        },
        "id": "unBMrmYzpcKl",
        "outputId": "35f27275-99a9-4146-9cf7-48df5fe1c3ef"
      },
      "execution_count": null,
      "outputs": [
        {
          "output_type": "stream",
          "name": "stderr",
          "text": [
            "Warning message in a + b3:\n",
            "“longer object length is not a multiple of shorter object length”\n"
          ]
        },
        {
          "output_type": "display_data",
          "data": {
            "text/plain": [
              "[1]  6  8 10  9"
            ],
            "text/latex": "\\begin{enumerate*}\n\\item 6\n\\item 8\n\\item 10\n\\item 9\n\\end{enumerate*}\n",
            "text/markdown": "1. 6\n2. 8\n3. 10\n4. 9\n\n\n",
            "text/html": [
              "<style>\n",
              ".list-inline {list-style: none; margin:0; padding: 0}\n",
              ".list-inline>li {display: inline-block}\n",
              ".list-inline>li:not(:last-child)::after {content: \"\\00b7\"; padding: 0 .5ex}\n",
              "</style>\n",
              "<ol class=list-inline><li>6</li><li>8</li><li>10</li><li>9</li></ol>\n"
            ]
          },
          "metadata": {}
        }
      ]
    },
    {
      "cell_type": "markdown",
      "source": [
        "この例では、`c(5,6,7,5)`というベクトルと`a`との演算が実行されています。\n",
        "`a`と`b2`との演算のように、短い方のベクトルが自動複製されるRの仕様を利用してわざと異なる長さのベクトル演算を行っているのであればよいですが、長い方のベクトル長が短い方のベクトル長の定数倍になっていない場合は、おそらく意図した演算を行っているわけではないでしょう。warningメッセージを見逃し、気が付かないうちに処理を続けてしてしまうと、分析結果に重大な悪影響を及ぼす可能性がありますので注意してください。"
      ],
      "metadata": {
        "id": "TNQD6IP5p4Rg"
      }
    }
  ]
}